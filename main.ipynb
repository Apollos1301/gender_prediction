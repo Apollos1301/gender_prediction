{
 "cells": [
  {
   "cell_type": "markdown",
   "metadata": {},
   "source": [
    "# Imports"
   ]
  },
  {
   "cell_type": "code",
   "execution_count": null,
   "metadata": {},
   "outputs": [],
   "source": [
    "import os\n",
    "import copy\n",
    "import numpy as np\n",
    "import pandas as pd\n",
    "import matplotlib.pyplot as plt\n",
    "import seaborn as sns\n",
    "import plotly as py\n",
    "import plotly.graph_objs as go"
   ]
  },
  {
   "cell_type": "code",
   "execution_count": null,
   "metadata": {},
   "outputs": [],
   "source": [
    "import torch\n",
    "import torch.nn as nn\n",
    "import torch.optim as optim\n",
    "import torch.optim.lr_scheduler as lr_scheduler\n",
    "\n",
    "from torchvision import transforms\n",
    "from torch.utils.data import DataLoader, Dataset\n",
    "from torchvision.datasets import ImageFolder\n",
    "\n",
    "from torchvision.models import googlenet, GoogLeNet_Weights\n",
    "\n",
    "device = torch.device('cuda' if torch.cuda.is_available() else 'cpu')\n",
    "print(device) "
   ]
  },
  {
   "cell_type": "markdown",
   "metadata": {},
   "source": [
    "# Load dataset"
   ]
  },
  {
   "cell_type": "code",
   "execution_count": null,
   "metadata": {},
   "outputs": [],
   "source": [
    "resize = transforms.Resize(size=(128,128))\n",
    "hFlip = transforms.RandomHorizontalFlip(p=0.25)\n",
    "vFlip = transforms.RandomVerticalFlip(p=0.25)\n",
    "rotate = transforms.RandomRotation(degrees=15)"
   ]
  },
  {
   "cell_type": "code",
   "execution_count": null,
   "metadata": {},
   "outputs": [],
   "source": [
    "transform_train = transforms.Compose([resize, hFlip, vFlip, rotate, transforms.ToTensor()])\n",
    "transform_test = transforms.Compose([resize, transforms.ToTensor()])"
   ]
  },
  {
   "cell_type": "code",
   "execution_count": null,
   "metadata": {},
   "outputs": [],
   "source": [
    "trainDataset = ImageFolder(root=\"./data/Dataset/Train\", transform=transform_train)\n",
    "testDataset = ImageFolder(root=\"./data/Dataset/Test\", transform=transform_test)\n",
    "validDataset = ImageFolder(root=\"./data/Dataset/Validation\", transform=transform_test)\n",
    "\n",
    "print(f'[INFO] training dataset contains {len(trainDataset)} samples')\n",
    "print(f'[INFO] testing dataset contains {len(testDataset)} samples')\n",
    "print(f'[INFO] validation dataset contains {len(validDataset)} samples')"
   ]
  },
  {
   "cell_type": "code",
   "execution_count": null,
   "metadata": {},
   "outputs": [],
   "source": [
    "BATCH_SIZE = 256"
   ]
  },
  {
   "cell_type": "code",
   "execution_count": null,
   "metadata": {},
   "outputs": [],
   "source": [
    "trainLoader = DataLoader(trainDataset,batch_size=BATCH_SIZE, shuffle= True)\n",
    "testLoader = DataLoader(testDataset,batch_size=BATCH_SIZE, shuffle= True)\n",
    "validLoader = DataLoader(validDataset,batch_size=BATCH_SIZE, shuffle= True)"
   ]
  },
  {
   "cell_type": "code",
   "execution_count": null,
   "metadata": {},
   "outputs": [],
   "source": [
    "gender_dict = {0: 'Female',\n",
    "               1: 'Male'}"
   ]
  },
  {
   "cell_type": "markdown",
   "metadata": {},
   "source": [
    "# Model"
   ]
  },
  {
   "cell_type": "markdown",
   "metadata": {},
   "source": [
    "## setup"
   ]
  },
  {
   "cell_type": "code",
   "execution_count": null,
   "metadata": {},
   "outputs": [],
   "source": [
    "weights = GoogLeNet_Weights.IMAGENET1K_V1\n",
    "model = googlenet(weights=weights).to(device=device)"
   ]
  },
  {
   "cell_type": "markdown",
   "metadata": {},
   "source": [
    "## Classifier training"
   ]
  },
  {
   "cell_type": "code",
   "execution_count": null,
   "metadata": {},
   "outputs": [],
   "source": [
    "for param in model.parameters():\n",
    "    param.requires_grad=False\n",
    "\n",
    "model.fc = nn.Linear(in_features=model.fc.in_features, out_features=1, bias=True)\n",
    "activation = nn.Sigmoid()"
   ]
  },
  {
   "cell_type": "code",
   "execution_count": null,
   "metadata": {},
   "outputs": [],
   "source": [
    "loss_fn = nn.BCELoss()\n",
    "optimizer = optim.Adam(model.fc.parameters(), lr=1e-3)\n",
    "# lr_scheduler = torch.optim.lr_scheduler.ReduceLROnPlateau(optimizer, mode='max', factor=0.1, patience=3, verbose=True)"
   ]
  },
  {
   "cell_type": "code",
   "execution_count": null,
   "metadata": {},
   "outputs": [],
   "source": [
    "NUM_EPOCH = 10"
   ]
  },
  {
   "cell_type": "code",
   "execution_count": null,
   "metadata": {},
   "outputs": [],
   "source": [
    "loss_values = []\n",
    "for epoch in range(NUM_EPOCH):\n",
    "    total_loss = 0\n",
    "    model.train()\n",
    "    for X, label in trainLoader:\n",
    "        optimizer.zero_grad()\n",
    "\n",
    "        X = X.to(device=device)\n",
    "        label = label.to(device=device)\n",
    "        label = label.reshape(-1,1).float()\n",
    "        \n",
    "        logits = activation(model(X)).float()\n",
    "        \n",
    "        loss = loss_fn(logits, label)\n",
    "        \n",
    "        loss.backward()\n",
    "        optimizer.step()\n",
    "    \n",
    "        total_loss += loss.item()\n",
    "        \n",
    "    avg_loss = total_loss / len(trainLoader)\n",
    "    loss_values.append(avg_loss)\n",
    "    print(f'Epoch: {epoch+1}/{NUM_EPOCH}, loss values: {avg_loss}')\n",
    "        \n",
    "        "
   ]
  },
  {
   "cell_type": "code",
   "execution_count": null,
   "metadata": {},
   "outputs": [],
   "source": [
    "best_model = copy.deepcopy(model.state_dict())"
   ]
  },
  {
   "cell_type": "markdown",
   "metadata": {},
   "source": [
    "## Testing method"
   ]
  },
  {
   "cell_type": "code",
   "execution_count": null,
   "metadata": {},
   "outputs": [],
   "source": [
    "def test_model(model, dataLoader):\n",
    "    model.eval()\n",
    "    \n",
    "    correct = 0\n",
    "    total = 0\n",
    "    \n",
    "    with torch.no_grad():\n",
    "        for X, label in dataLoader:\n",
    "            X = X.to(device=device)\n",
    "            label = label.to(device=device)\n",
    "            label = label.reshape(-1,1).float()\n",
    "        \n",
    "            logits = activation(model(X)).float()\n",
    "            \n",
    "            predicted = logits.round()\n",
    "\n",
    "            total += label.size(0)\n",
    "            correct += (predicted == label).sum().item()\n",
    "\n",
    "    accuracy = 100 * correct / total\n",
    "    return accuracy\n",
    "            "
   ]
  },
  {
   "cell_type": "markdown",
   "metadata": {},
   "source": [
    "## Finetuning"
   ]
  },
  {
   "cell_type": "code",
   "execution_count": null,
   "metadata": {},
   "outputs": [],
   "source": [
    "for param in model.parameters():\n",
    "    param.requires_grad=True"
   ]
  },
  {
   "cell_type": "code",
   "execution_count": null,
   "metadata": {},
   "outputs": [],
   "source": [
    "loss_fn = nn.BCELoss()\n",
    "optimizer = optim.Adam(model.parameters(), lr=1e-2)\n",
    "lr_scheduler = torch.optim.lr_scheduler.ReduceLROnPlateau(optimizer, mode='max', factor=0.1, patience=3, verbose=True)"
   ]
  },
  {
   "cell_type": "code",
   "execution_count": null,
   "metadata": {},
   "outputs": [],
   "source": [
    "model.load_state_dict(best_model)"
   ]
  },
  {
   "cell_type": "code",
   "execution_count": null,
   "metadata": {},
   "outputs": [],
   "source": [
    "best_accuracy = -1\n",
    "for epoch in range(NUM_EPOCH):\n",
    "    for i in [0,1]:\n",
    "        if i == 0:\n",
    "            total_loss = 0\n",
    "            model.train()\n",
    "            for X, label in trainLoader:\n",
    "                optimizer.zero_grad()\n",
    "\n",
    "                X = X.to(device=device)\n",
    "                label = label.to(device=device)\n",
    "                label = label.reshape(-1,1).float()\n",
    "                \n",
    "                logits = activation(model(X)).float()\n",
    "                \n",
    "                \n",
    "                    \n",
    "                loss = loss_fn(logits, label)\n",
    "                \n",
    "                loss.backward()\n",
    "                optimizer.step()\n",
    "            \n",
    "                total_loss += loss.item()\n",
    "                \n",
    "                \n",
    "                \n",
    "            avg_loss = total_loss / len(trainLoader)\n",
    "            loss_values.append(avg_loss)\n",
    "            print(f'Epoch: {epoch+1}/{NUM_EPOCH}, loss values: {avg_loss}')\n",
    "        else:\n",
    "            accuracy = test_model(model, testLoader)\n",
    "            if accuracy > best_accuracy:\n",
    "                best_model = copy.deepcopy(model.state_dict())\n",
    "            lr_scheduler.step(accuracy)\n",
    "            \n",
    "            print(f'--- Accuracy of the model on the test data: {accuracy:.2f}% ---')\n",
    "            \n",
    "model.load_state_dict(best_model)"
   ]
  }
 ],
 "metadata": {
  "kernelspec": {
   "display_name": "gender_prediction",
   "language": "python",
   "name": "python3"
  },
  "language_info": {
   "codemirror_mode": {
    "name": "ipython",
    "version": 3
   },
   "file_extension": ".py",
   "mimetype": "text/x-python",
   "name": "python",
   "nbconvert_exporter": "python",
   "pygments_lexer": "ipython3",
   "version": "3.11.5"
  }
 },
 "nbformat": 4,
 "nbformat_minor": 2
}
